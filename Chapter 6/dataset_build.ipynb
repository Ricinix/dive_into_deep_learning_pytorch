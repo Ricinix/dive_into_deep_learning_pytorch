{
 "cells": [
  {
   "cell_type": "code",
   "execution_count": 1,
   "metadata": {
    "collapsed": true,
    "pycharm": {
     "is_executing": false
    }
   },
   "outputs": [],
   "source": [
    "import torch\n",
    "import random\n",
    "import zipfile\n",
    "from pathlib import Path"
   ]
  },
  {
   "cell_type": "code",
   "execution_count": 2,
   "outputs": [
    {
     "data": {
      "text/plain": "'想要有直升机\\n想要和你飞到宇宙去\\n想要和你融化在一起\\n融化在宇宙里\\n我每天每天每'"
     },
     "metadata": {},
     "output_type": "execute_result",
     "execution_count": 2
    }
   ],
   "source": [
    "with zipfile.ZipFile(Path('deep learning/data/jaychou_lyrics.txt.zip')) as zin:\n",
    "    with zin.open('jaychou_lyrics.txt') as f:\n",
    "        corpus_chars = f.read().decode('utf-8')\n",
    "corpus_chars[:40]"
   ],
   "metadata": {
    "collapsed": false,
    "pycharm": {
     "name": "#%%\n",
     "is_executing": false
    }
   }
  },
  {
   "cell_type": "code",
   "execution_count": 3,
   "outputs": [],
   "source": [
    "corpus_chars = corpus_chars.replace('\\n', ' ').replace('\\r', '')\n",
    "corpus_chars = corpus_chars[:10000]"
   ],
   "metadata": {
    "collapsed": false,
    "pycharm": {
     "name": "#%%\n",
     "is_executing": false
    }
   }
  },
  {
   "cell_type": "code",
   "execution_count": 4,
   "outputs": [
    {
     "data": {
      "text/plain": "1027"
     },
     "metadata": {},
     "output_type": "execute_result",
     "execution_count": 4
    }
   ],
   "source": [
    "idx_to_char = list(set(corpus_chars))\n",
    "char_to_idx = dict([(char, i) for i, char in enumerate(idx_to_char)])\n",
    "vocab_size = len(char_to_idx)\n",
    "vocab_size"
   ],
   "metadata": {
    "collapsed": false,
    "pycharm": {
     "name": "#%%\n",
     "is_executing": false
    }
   }
  },
  {
   "cell_type": "code",
   "execution_count": 5,
   "outputs": [
    {
     "name": "stdout",
     "text": [
      "chars:",
      " ",
      "想要有直升机 想要和你飞到宇宙去 想要和",
      "\n",
      "indices:",
      " ",
      "[776, 854, 167, 324, 475, 772, 253, 776, 854, 1, 322, 996, 988, 498, 386, 341, 253, 776, 854, 1]",
      "\n"
     ],
     "output_type": "stream"
    }
   ],
   "source": [
    "corpus_indices = [char_to_idx[char] for char in corpus_chars]\n",
    "sample = corpus_indices[:20]\n",
    "print('chars:', ''.join([idx_to_char[idx] for idx in sample]))\n",
    "print('indices:', sample)"
   ],
   "metadata": {
    "collapsed": false,
    "pycharm": {
     "name": "#%%\n",
     "is_executing": false
    }
   }
  },
  {
   "cell_type": "code",
   "execution_count": 8,
   "outputs": [],
   "source": [
    "def data_iter_random(corpus_indices, batch_size, num_steps, device=None):\n",
    "    num_examples = (len(corpus_indices) - 1) // num_steps  # 总样本数\n",
    "    epoch_size = num_examples // batch_size  # 小批量读取次数\n",
    "    example_indices = list(range(num_examples))\n",
    "    random.shuffle(example_indices)  # 打乱读取顺序\n",
    "    \n",
    "    def _data(pos):\n",
    "        return corpus_indices[pos:pos + num_steps]  # 按下标返回一个样本\n",
    "    \n",
    "    for i in range(epoch_size):\n",
    "        i *= batch_size  # 已读取的样本数\n",
    "        batch_indices = example_indices[i: i + batch_size]  # 一个小批量中的所有样本第一个下标\n",
    "        X = [_data(j * num_steps) for j in batch_indices]  # 按下标生成对应的样本X\n",
    "        Y = [_data(j * num_steps + 1) for j in batch_indices]  # 按下标生成对应的样本Y\n",
    "        if device is not None:\n",
    "            yield torch.FloatTensor(X).to(device), torch.FloatTensor(Y).to(device)\n",
    "        else:\n",
    "            yield torch.FloatTensor(X), torch.FloatTensor(Y)"
   ],
   "metadata": {
    "collapsed": false,
    "pycharm": {
     "name": "#%%\n",
     "is_executing": false
    }
   }
  },
  {
   "cell_type": "code",
   "execution_count": 11,
   "outputs": [
    {
     "name": "stdout",
     "text": [
      "X:",
      " ",
      "tensor([[12., 13., 14., 15., 16., 17.],\n        [ 0.,  1.,  2.,  3.,  4.,  5.]])",
      " ",
      "\nY:",
      " ",
      "tensor([[13., 14., 15., 16., 17., 18.],\n        [ 1.,  2.,  3.,  4.,  5.,  6.]])",
      " ",
      "\n",
      "\n",
      "X:",
      " ",
      "tensor([[18., 19., 20., 21., 22., 23.],\n        [ 6.,  7.,  8.,  9., 10., 11.]])",
      " ",
      "\nY:",
      " ",
      "tensor([[19., 20., 21., 22., 23., 24.],\n        [ 7.,  8.,  9., 10., 11., 12.]])",
      " ",
      "\n",
      "\n"
     ],
     "output_type": "stream"
    }
   ],
   "source": [
    "my_seq = list(range(30))\n",
    "for X, Y in data_iter_random(my_seq, 2, 6):\n",
    "    print('X:', X, '\\nY:', Y, '\\n')"
   ],
   "metadata": {
    "collapsed": false,
    "pycharm": {
     "name": "#%%\n",
     "is_executing": false
    }
   }
  },
  {
   "cell_type": "code",
   "execution_count": 12,
   "outputs": [],
   "source": [
    "def data_iter_consecutive(corpus_indices, batch_size, num_steps, device=None):\n",
    "    if device is not None:\n",
    "        corpus_indices = torch.FloatTensor(corpus_indices).to(device)\n",
    "    else:\n",
    "        corpus_indices = torch.FloatTensor(corpus_indices)\n",
    "    data_len = len(corpus_indices)  # 总长度\n",
    "    batch_len = data_len // batch_size  \n",
    "    # 将data变成矩阵\n",
    "    indices = corpus_indices[0: batch_size * batch_len].view(batch_size, batch_len)\n",
    "    epoch_size = (batch_len - 1) // num_steps  # 减1是为了防止取Y的时候导致下标越界\n",
    "    for i in range(epoch_size):\n",
    "        i *= num_steps\n",
    "        X = indices[:, i: i + num_steps]\n",
    "        Y = indices[:, i + 1: i + num_steps + 1]\n",
    "        yield X, Y"
   ],
   "metadata": {
    "collapsed": false,
    "pycharm": {
     "name": "#%%\n",
     "is_executing": false
    }
   }
  },
  {
   "cell_type": "code",
   "execution_count": 13,
   "outputs": [
    {
     "name": "stdout",
     "text": [
      "X: ",
      " ",
      "tensor([[ 0.,  1.,  2.,  3.,  4.,  5.],\n        [15., 16., 17., 18., 19., 20.]])",
      " ",
      "\nY: ",
      " ",
      "tensor([[ 1.,  2.,  3.,  4.,  5.,  6.],\n        [16., 17., 18., 19., 20., 21.]])",
      " ",
      "\n",
      "\n",
      "X: ",
      " ",
      "tensor([[ 6.,  7.,  8.,  9., 10., 11.],\n        [21., 22., 23., 24., 25., 26.]])",
      " ",
      "\nY: ",
      " ",
      "tensor([[ 7.,  8.,  9., 10., 11., 12.],\n        [22., 23., 24., 25., 26., 27.]])",
      " ",
      "\n",
      "\n"
     ],
     "output_type": "stream"
    }
   ],
   "source": [
    "for X, Y in data_iter_consecutive(my_seq, 2, 6):\n",
    "    print('X: ', X, '\\nY: ', Y, '\\n')"
   ],
   "metadata": {
    "collapsed": false,
    "pycharm": {
     "name": "#%%\n",
     "is_executing": false
    }
   }
  },
  {
   "cell_type": "code",
   "execution_count": null,
   "outputs": [],
   "source": [
    "\n"
   ],
   "metadata": {
    "collapsed": false,
    "pycharm": {
     "name": "#%%\n"
    }
   }
  }
 ],
 "metadata": {
  "language_info": {
   "codemirror_mode": {
    "name": "ipython",
    "version": 2
   },
   "file_extension": ".py",
   "mimetype": "text/x-python",
   "name": "python",
   "nbconvert_exporter": "python",
   "pygments_lexer": "ipython2",
   "version": "2.7.6"
  },
  "kernelspec": {
   "name": "python3",
   "language": "python",
   "display_name": "Python 3"
  },
  "pycharm": {
   "stem_cell": {
    "cell_type": "raw",
    "source": [],
    "metadata": {
     "collapsed": false
    }
   }
  }
 },
 "nbformat": 4,
 "nbformat_minor": 0
}